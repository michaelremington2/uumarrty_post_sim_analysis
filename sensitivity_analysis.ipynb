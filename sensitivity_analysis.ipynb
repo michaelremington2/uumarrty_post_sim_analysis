{
 "cells": [
  {
   "cell_type": "code",
   "execution_count": 1,
   "metadata": {},
   "outputs": [],
   "source": [
    "import pandas as pd\n",
    "import matplotlib.pyplot as plt\n",
    "import seaborn as sns \n",
    "import numpy as np\n",
    "import math"
   ]
  },
  {
   "cell_type": "code",
   "execution_count": 9,
   "metadata": {},
   "outputs": [],
   "source": [
    "# Pure\n",
    "file_path_totals_1 = '/home/mremington/Documents/sensitivity_data/total_data/pure/pure_totals_1.csv'\n",
    "total_1 = pd.read_csv(file_path_totals_1,header = 0, index_col=None)\n",
    "file_path_totals_2 = '/home/mremington/Documents/sensitivity_data/total_data/pure/pure_totals_2.csv'\n",
    "total_2 = pd.read_csv(file_path_totals_2,header = 0, index_col=None)\n",
    "file_path_totals_3 = '/home/mremington/Documents/sensitivity_data/total_data/pure/pure_totals_2.csv'\n",
    "total_3 = pd.read_csv(file_path_totals_2,header = 0, index_col=None)\n",
    "pure_totals = total_1.append(total_2)\n",
    "pure_totals = pure_totals.append(total_3)"
   ]
  },
  {
   "cell_type": "code",
   "execution_count": 10,
   "metadata": {},
   "outputs": [],
   "source": [
    "# mixed\n",
    "file_path_totals_1 = '/home/mremington/Documents/sensitivity_data/total_data/mixed/mixed_totals_1.csv'\n",
    "total_1 = pd.read_csv(file_path_totals_1,header = 0, index_col=None)\n",
    "file_path_totals_2 = '/home/mremington/Documents/sensitivity_data/total_data/mixed/mixed_totals_2.csv'\n",
    "total_2 = pd.read_csv(file_path_totals_2,header = 0, index_col=None)\n",
    "file_path_totals_3 = '/home/mremington/Documents/sensitivity_data/total_data/mixed/mixed_totals_2.csv'\n",
    "total_3 = pd.read_csv(file_path_totals_2,header = 0, index_col=None)\n",
    "mixed_totals = total_1.append(total_2)\n",
    "mixed_totals = mixed_totals.append(total_3)"
   ]
  },
  {
   "cell_type": "code",
   "execution_count": 11,
   "metadata": {},
   "outputs": [],
   "source": [
    "def exp_names(file_name_column):\n",
    "    labels = []\n",
    "    for i in file_name_column:\n",
    "        label = i.split(\"_sim\")\n",
    "        labels.append(label[0])\n",
    "    return labels\n",
    "\n",
    "def org_label(generations):\n",
    "    orgs = []\n",
    "    for i in generations:\n",
    "        if i==9998:\n",
    "            org='krat'\n",
    "        elif i==1666:\n",
    "            org='snake'\n",
    "        orgs.append(org)\n",
    "    return orgs\n",
    "# pure\n",
    "pure_totals['exp_labels']=exp_names(pure_totals['file_name'])\n",
    "pure_totals['org']=org_label(pure_totals['generations'])\n",
    "# mixed\n",
    "mixed_totals['exp_labels']=exp_names(mixed_totals['file_name'])\n",
    "mixed_totals['org']=org_label(mixed_totals['generations'])"
   ]
  },
  {
   "cell_type": "code",
   "execution_count": 7,
   "metadata": {},
   "outputs": [
    {
     "data": {
      "text/html": [
       "<div>\n",
       "<style scoped>\n",
       "    .dataframe tbody tr th:only-of-type {\n",
       "        vertical-align: middle;\n",
       "    }\n",
       "\n",
       "    .dataframe tbody tr th {\n",
       "        vertical-align: top;\n",
       "    }\n",
       "\n",
       "    .dataframe thead th {\n",
       "        text-align: right;\n",
       "    }\n",
       "</style>\n",
       "<table border=\"1\" class=\"dataframe\">\n",
       "  <thead>\n",
       "    <tr style=\"text-align: right;\">\n",
       "      <th></th>\n",
       "      <th>sim_id</th>\n",
       "      <th>file_name</th>\n",
       "      <th>experiment</th>\n",
       "      <th>sim_number</th>\n",
       "      <th>data_type</th>\n",
       "      <th>cycles</th>\n",
       "      <th>generations</th>\n",
       "      <th>mean_bush_pref</th>\n",
       "      <th>std_bush_pref</th>\n",
       "      <th>se_bush_pref</th>\n",
       "    </tr>\n",
       "  </thead>\n",
       "  <tbody>\n",
       "    <tr>\n",
       "      <th>0</th>\n",
       "      <td>b4eb8db92dd94ed88291e08fd1e94cf4</td>\n",
       "      <td>landscape_size_x_15_sim_0_krat_info.csv</td>\n",
       "      <td>landscape</td>\n",
       "      <td>0</td>\n",
       "      <td>krat</td>\n",
       "      <td>499950</td>\n",
       "      <td>9998</td>\n",
       "      <td>0.503937</td>\n",
       "      <td>0.383923</td>\n",
       "      <td>0.000470</td>\n",
       "    </tr>\n",
       "    <tr>\n",
       "      <th>1</th>\n",
       "      <td>b4eb8db92dd94ed88291e08fd1e94cf4</td>\n",
       "      <td>landscape_size_x_15_sim_0_snake_info.csv</td>\n",
       "      <td>landscape</td>\n",
       "      <td>0</td>\n",
       "      <td>snake</td>\n",
       "      <td>499950</td>\n",
       "      <td>1666</td>\n",
       "      <td>0.506241</td>\n",
       "      <td>0.320014</td>\n",
       "      <td>0.000450</td>\n",
       "    </tr>\n",
       "    <tr>\n",
       "      <th>2</th>\n",
       "      <td>be62bc377cd0410fbf2e03dfce491f3e</td>\n",
       "      <td>landscape_size_x_15_sim_1_krat_info.csv</td>\n",
       "      <td>landscape</td>\n",
       "      <td>1</td>\n",
       "      <td>krat</td>\n",
       "      <td>499950</td>\n",
       "      <td>9998</td>\n",
       "      <td>0.495098</td>\n",
       "      <td>0.382486</td>\n",
       "      <td>0.000469</td>\n",
       "    </tr>\n",
       "    <tr>\n",
       "      <th>3</th>\n",
       "      <td>be62bc377cd0410fbf2e03dfce491f3e</td>\n",
       "      <td>landscape_size_x_15_sim_1_snake_info.csv</td>\n",
       "      <td>landscape</td>\n",
       "      <td>1</td>\n",
       "      <td>snake</td>\n",
       "      <td>499950</td>\n",
       "      <td>1666</td>\n",
       "      <td>0.494635</td>\n",
       "      <td>0.319212</td>\n",
       "      <td>0.000449</td>\n",
       "    </tr>\n",
       "    <tr>\n",
       "      <th>4</th>\n",
       "      <td>9df063bf98b444c28d672ee43f532850</td>\n",
       "      <td>landscape_size_x_15_sim_2_krat_info.csv</td>\n",
       "      <td>landscape</td>\n",
       "      <td>2</td>\n",
       "      <td>krat</td>\n",
       "      <td>499950</td>\n",
       "      <td>9998</td>\n",
       "      <td>0.503135</td>\n",
       "      <td>0.382099</td>\n",
       "      <td>0.000469</td>\n",
       "    </tr>\n",
       "  </tbody>\n",
       "</table>\n",
       "</div>"
      ],
      "text/plain": [
       "                             sim_id                                 file_name  \\\n",
       "0  b4eb8db92dd94ed88291e08fd1e94cf4   landscape_size_x_15_sim_0_krat_info.csv   \n",
       "1  b4eb8db92dd94ed88291e08fd1e94cf4  landscape_size_x_15_sim_0_snake_info.csv   \n",
       "2  be62bc377cd0410fbf2e03dfce491f3e   landscape_size_x_15_sim_1_krat_info.csv   \n",
       "3  be62bc377cd0410fbf2e03dfce491f3e  landscape_size_x_15_sim_1_snake_info.csv   \n",
       "4  9df063bf98b444c28d672ee43f532850   landscape_size_x_15_sim_2_krat_info.csv   \n",
       "\n",
       "  experiment  sim_number data_type  cycles  generations  mean_bush_pref  \\\n",
       "0  landscape           0      krat  499950         9998        0.503937   \n",
       "1  landscape           0     snake  499950         1666        0.506241   \n",
       "2  landscape           1      krat  499950         9998        0.495098   \n",
       "3  landscape           1     snake  499950         1666        0.494635   \n",
       "4  landscape           2      krat  499950         9998        0.503135   \n",
       "\n",
       "   std_bush_pref  se_bush_pref  \n",
       "0       0.383923      0.000470  \n",
       "1       0.320014      0.000450  \n",
       "2       0.382486      0.000469  \n",
       "3       0.319212      0.000449  \n",
       "4       0.382099      0.000469  "
      ]
     },
     "execution_count": 7,
     "metadata": {},
     "output_type": "execute_result"
    }
   ],
   "source": [
    "mixed_totals.head()"
   ]
  },
  {
   "cell_type": "code",
   "execution_count": 24,
   "metadata": {},
   "outputs": [
    {
     "name": "stdout",
     "output_type": "stream",
     "text": [
      "\\begin{tabular}{lrrrrrrrr}\n",
      "\\toprule\n",
      "{} &  krat\\_bush &  krat\\_open &  snake\\_bush &  snake\\_open &  krat\\_std &  krat\\_se &  snake\\_std &  snake\\_se \\\\\n",
      "Experimental\\_Group                            &            &            &             &             &           &          &            &           \\\\\n",
      "\\midrule\n",
      "initial\\_krat\\_pop\\_480                          &     0.4919 &     0.5081 &      0.5045 &      0.4955 &    0.0181 &   0.0041 &     0.0131 &    0.0029 \\\\\n",
      "initial\\_krat\\_pop\\_490                          &     0.4993 &     0.5007 &      0.4998 &      0.5002 &    0.0181 &   0.0041 &     0.0118 &    0.0026 \\\\\n",
      "initial\\_krat\\_pop\\_510                          &     0.5066 &     0.4934 &      0.4960 &      0.5040 &    0.0182 &   0.0041 &     0.0119 &    0.0027 \\\\\n",
      "initial\\_krat\\_pop\\_520                          &     0.4970 &     0.5030 &      0.5025 &      0.4975 &    0.0109 &   0.0024 &     0.0085 &    0.0019 \\\\\n",
      "initial\\_snake\\_pop\\_110                         &     0.5034 &     0.4966 &      0.4974 &      0.5026 &    0.0183 &   0.0058 &     0.0156 &    0.0049 \\\\\n",
      "initial\\_snake\\_pop\\_120                         &     0.5094 &     0.4906 &      0.4935 &      0.5065 &    0.0230 &   0.0073 &     0.0162 &    0.0051 \\\\\n",
      "initial\\_snake\\_pop\\_80                          &     0.4962 &     0.5038 &      0.5021 &      0.4979 &    0.0188 &   0.0060 &     0.0146 &    0.0046 \\\\\n",
      "initial\\_snake\\_pop\\_90                          &     0.4979 &     0.5021 &      0.4991 &      0.5009 &    0.0132 &   0.0042 &     0.0080 &    0.0025 \\\\\n",
      "krat\\_energy\\_cost\\_5                            &     0.5036 &     0.4964 &      0.4977 &      0.5023 &    0.0098 &   0.0022 &     0.0072 &    0.0016 \\\\\n",
      "krat\\_energy\\_cost\\_6                            &     0.4927 &     0.5073 &      0.5047 &      0.4953 &    0.0219 &   0.0049 &     0.0157 &    0.0035 \\\\\n",
      "krat\\_energy\\_cost\\_8                            &     0.5101 &     0.4899 &      0.4927 &      0.5073 &    0.0080 &   0.0018 &     0.0067 &    0.0015 \\\\\n",
      "krat\\_energy\\_cost\\_9                            &     0.4944 &     0.5056 &      0.5029 &      0.4971 &    0.0173 &   0.0039 &     0.0120 &    0.0027 \\\\\n",
      "landscape\\_size\\_x\\_15                           &     0.5012 &     0.4988 &      0.4974 &      0.5026 &    0.0118 &   0.0037 &     0.0086 &    0.0027 \\\\\n",
      "landscape\\_size\\_x\\_20                           &     0.5011 &     0.4989 &      0.5002 &      0.4998 &    0.0123 &   0.0039 &     0.0081 &    0.0026 \\\\\n",
      "landscape\\_size\\_x\\_30                           &     0.4995 &     0.5005 &      0.5000 &      0.5000 &    0.0140 &   0.0044 &     0.0091 &    0.0029 \\\\\n",
      "landscape\\_size\\_x\\_35                           &     0.5073 &     0.4927 &      0.4940 &      0.5060 &    0.0265 &   0.0084 &     0.0202 &    0.0064 \\\\\n",
      "landscape\\_size\\_y\\_15                           &     0.5054 &     0.4946 &      0.4967 &      0.5033 &    0.0150 &   0.0047 &     0.0083 &    0.0026 \\\\\n",
      "landscape\\_size\\_y\\_20                           &     0.5003 &     0.4997 &      0.5012 &      0.4988 &    0.0104 &   0.0033 &     0.0069 &    0.0022 \\\\\n",
      "landscape\\_size\\_y\\_30                           &     0.4925 &     0.5075 &      0.5058 &      0.4942 &    0.0128 &   0.0041 &     0.0107 &    0.0034 \\\\\n",
      "landscape\\_size\\_y\\_35                           &     0.5089 &     0.4911 &      0.4946 &      0.5054 &    0.0302 &   0.0095 &     0.0216 &    0.0068 \\\\\n",
      "microhabitat\\_open\\_bush\\_proportions\\_[0.3,\\_0.7] &     0.5573 &     0.4427 &      0.4966 &      0.5034 &    0.0209 &   0.0066 &     0.0143 &    0.0045 \\\\\n",
      "microhabitat\\_open\\_bush\\_proportions\\_[0.4,\\_0.6] &     0.5289 &     0.4711 &      0.4962 &      0.5038 &    0.0159 &   0.0050 &     0.0130 &    0.0041 \\\\\n",
      "microhabitat\\_open\\_bush\\_proportions\\_[0.6,\\_0.4] &     0.4787 &     0.5213 &      0.4959 &      0.5041 &    0.0132 &   0.0042 &     0.0120 &    0.0038 \\\\\n",
      "microhabitat\\_open\\_bush\\_proportions\\_[0.7,\\_0.3] &     0.4471 &     0.5529 &      0.4991 &      0.5009 &    0.0153 &   0.0048 &     0.0124 &    0.0039 \\\\\n",
      "snake\\_death\\_probability\\_0.0005                &     0.5002 &     0.4998 &      0.5007 &      0.4993 &    0.0140 &   0.0031 &     0.0098 &    0.0022 \\\\\n",
      "snake\\_death\\_probability\\_0.0015                &     0.5062 &     0.4938 &      0.4973 &      0.5027 &    0.0119 &   0.0027 &     0.0142 &    0.0032 \\\\\n",
      "snake\\_death\\_probability\\_0.002                 &     0.4919 &     0.5081 &      0.5078 &      0.4922 &    0.0141 &   0.0032 &     0.0136 &    0.0030 \\\\\n",
      "snake\\_energy\\_cost\\_10                          &     0.4914 &     0.5086 &      0.5042 &      0.4958 &    0.0190 &   0.0042 &     0.0128 &    0.0029 \\\\\n",
      "snake\\_energy\\_cost\\_12                          &     0.4967 &     0.5033 &      0.5015 &      0.4985 &    0.0132 &   0.0029 &     0.0089 &    0.0020 \\\\\n",
      "snake\\_energy\\_cost\\_16                          &     0.5055 &     0.4945 &      0.4972 &      0.5028 &    0.0221 &   0.0049 &     0.0165 &    0.0037 \\\\\n",
      "snake\\_energy\\_cost\\_18                          &     0.5056 &     0.4944 &      0.4956 &      0.5044 &    0.0275 &   0.0061 &     0.0222 &    0.0050 \\\\\n",
      "snake\\_energy\\_gain\\_1400                        &     0.5041 &     0.4959 &      0.4987 &      0.5013 &    0.0225 &   0.0050 &     0.0148 &    0.0033 \\\\\n",
      "snake\\_energy\\_gain\\_1450                        &     0.4966 &     0.5034 &      0.5024 &      0.4976 &    0.0223 &   0.0050 &     0.0154 &    0.0035 \\\\\n",
      "snake\\_energy\\_gain\\_1550                        &     0.4977 &     0.5023 &      0.5016 &      0.4984 &    0.0221 &   0.0050 &     0.0159 &    0.0036 \\\\\n",
      "snake\\_energy\\_gain\\_1600                        &     0.4981 &     0.5019 &      0.5008 &      0.4992 &    0.0161 &   0.0036 &     0.0129 &    0.0029 \\\\\n",
      "\\bottomrule\n",
      "\\end{tabular}\n",
      "\n"
     ]
    }
   ],
   "source": [
    "bp_df = pure_totals.groupby(['exp_labels','org']).agg(\n",
    "    Bush=pd.NamedAgg(column='mean_bush_pref', aggfunc='mean'),\n",
    "    exp_std_bp=pd.NamedAgg(column='mean_bush_pref', aggfunc='std'),\n",
    "    exp_se_bp=pd.NamedAgg(column='mean_bush_pref', aggfunc='sem')\n",
    "    )\n",
    "#bp_df = bp_df.reset_index()\n",
    "open_preference = [1-x for x in list(bp_df['Bush'])]\n",
    "bp_df['Open']= open_preference\n",
    "bp_df = bp_df.unstack(level=-1)\n",
    "bp_df=bp_df.reset_index()\n",
    "bp_df.columns=['Experimental_Group','krat_bush','snake_bush','krat_std','snake_std','krat_se','snake_se','krat_open','snake_open']\n",
    "bp_df.set_index('Experimental_Group', inplace=True)\n",
    "bp_df = bp_df[['krat_bush', 'krat_open',\n",
    "               'snake_bush', 'snake_open', \n",
    "               'krat_std', 'krat_se', \n",
    "               'snake_std', 'snake_se']]#.head(50)\n",
    "print(bp_df.round(4).to_latex()) "
   ]
  },
  {
   "cell_type": "code",
   "execution_count": 14,
   "metadata": {},
   "outputs": [
    {
     "ename": "NameError",
     "evalue": "name 'bp_df' is not defined",
     "output_type": "error",
     "traceback": [
      "\u001b[0;31m---------------------------------------------------------------------------\u001b[0m",
      "\u001b[0;31mNameError\u001b[0m                                 Traceback (most recent call last)",
      "\u001b[0;32m<ipython-input-14-848627d779bd>\u001b[0m in \u001b[0;36m<module>\u001b[0;34m\u001b[0m\n\u001b[0;32m----> 1\u001b[0;31m \u001b[0mbp_df\u001b[0m\u001b[0;34m.\u001b[0m\u001b[0mhead\u001b[0m\u001b[0;34m(\u001b[0m\u001b[0;36m50\u001b[0m\u001b[0;34m)\u001b[0m\u001b[0;34m\u001b[0m\u001b[0;34m\u001b[0m\u001b[0m\n\u001b[0m",
      "\u001b[0;31mNameError\u001b[0m: name 'bp_df' is not defined"
     ]
    }
   ],
   "source": [
    "bp_df.head(50)"
   ]
  },
  {
   "cell_type": "code",
   "execution_count": 13,
   "metadata": {},
   "outputs": [
    {
     "ename": "SyntaxError",
     "evalue": "invalid syntax (<ipython-input-13-674db71e759f>, line 4)",
     "output_type": "error",
     "traceback": [
      "\u001b[0;36m  File \u001b[0;32m\"<ipython-input-13-674db71e759f>\"\u001b[0;36m, line \u001b[0;32m4\u001b[0m\n\u001b[0;31m    exp_se_bp=pd.NamedAgg(column='mean_bush_pref', aggfunc='sem')\u001b[0m\n\u001b[0m    ^\u001b[0m\n\u001b[0;31mSyntaxError\u001b[0m\u001b[0;31m:\u001b[0m invalid syntax\n"
     ]
    }
   ],
   "source": [
    "bp_df_mixed = mixed_totals.groupby(['exp_labels','org']).agg(\n",
    "    Bush=pd.NamedAgg(column='mean_bush_pref', aggfunc='mean'),\n",
    "    exp_std_bp=pd.NamedAgg(column='mean_bush_pref', aggfunc='std')\n",
    "    exp_se_bp=pd.NamedAgg(column='mean_bush_pref', aggfunc='sem')\n",
    "    )\n",
    "#bp_df = bp_df.reset_index()\n",
    "open_preference = [1-x for x in list(bp_df_mixed['Bush'])]\n",
    "bp_df_mixed['Open']= open_preference\n",
    "bp_df_mixed = bp_df_mixed.unstack(level=-1)\n",
    "bp_df_mixed=bp_df_mixed.reset_index()\n",
    "#bp_df_mixed.columns=['Experimental_Group','krat_bush','snake_bush','krat_se','snake_se','krat_open','snake_open']\n",
    "#bp_df_mixed.set_index('Experimental_Group', inplace=True)\n",
    "bp_df_mixed.head(50)"
   ]
  },
  {
   "cell_type": "code",
   "execution_count": null,
   "metadata": {},
   "outputs": [],
   "source": []
  }
 ],
 "metadata": {
  "kernelspec": {
   "display_name": "Python 3",
   "language": "python",
   "name": "python3"
  },
  "language_info": {
   "codemirror_mode": {
    "name": "ipython",
    "version": 3
   },
   "file_extension": ".py",
   "mimetype": "text/x-python",
   "name": "python",
   "nbconvert_exporter": "python",
   "pygments_lexer": "ipython3",
   "version": "3.8.5"
  }
 },
 "nbformat": 4,
 "nbformat_minor": 4
}
